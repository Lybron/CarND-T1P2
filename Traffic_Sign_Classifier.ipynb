{
 "cells": [
  {
   "cell_type": "markdown",
   "metadata": {},
   "source": [
    "# Self-Driving Car Engineer Nanodegree\n",
    "\n",
    "## Deep Learning\n",
    "\n",
    "## Project: Build a Traffic Sign Recognition Classifier\n",
    "\n",
    "In this notebook, a template is provided for you to implement your functionality in stages, which is required to successfully complete this project. If additional code is required that cannot be included in the notebook, be sure that the Python code is successfully imported and included in your submission if necessary. \n",
    "\n",
    "> **Note**: Once you have completed all of the code implementations, you need to finalize your work by exporting the iPython Notebook as an HTML document. Before exporting the notebook to html, all of the code cells need to have been run so that reviewers can see the final implementation and output. You can then export the notebook by using the menu above and navigating to  \\n\",\n",
    "    \"**File -> Download as -> HTML (.html)**. Include the finished document along with this notebook as your submission. \n",
    "\n",
    "In addition to implementing code, there is a writeup to complete. The writeup should be completed in a separate file, which can be either a markdown file or a pdf document. There is a [write up template](https://github.com/udacity/CarND-Traffic-Sign-Classifier-Project/blob/master/writeup_template.md) that can be used to guide the writing process. Completing the code template and writeup template will cover all of the [rubric points](https://review.udacity.com/#!/rubrics/481/view) for this project.\n",
    "\n",
    "The [rubric](https://review.udacity.com/#!/rubrics/481/view) contains \"Stand Out Suggestions\" for enhancing the project beyond the minimum requirements. The stand out suggestions are optional. If you decide to pursue the \"stand out suggestions\", you can include the code in this Ipython notebook and also discuss the results in the writeup file.\n",
    "\n",
    "\n",
    ">**Note:** Code and Markdown cells can be executed using the **Shift + Enter** keyboard shortcut. In addition, Markdown cells can be edited by typically double-clicking the cell to enter edit mode."
   ]
  },
  {
   "cell_type": "markdown",
   "metadata": {},
   "source": [
    "---\n",
    "## Step 0: Load The Data"
   ]
  },
  {
   "cell_type": "code",
   "execution_count": 3,
   "metadata": {
    "collapsed": true
   },
   "outputs": [],
   "source": [
    "# Load pickled data\n",
    "import pickle\n",
    "\n",
    "# TODO: Fill this in based on where you saved the training and testing data\n",
    "\n",
    "training_file = \"traffic-signs-data/train.p\"\n",
    "validation_file= \"traffic-signs-data/valid.p\"\n",
    "testing_file = \"traffic-signs-data/test.p\"\n",
    "\n",
    "with open(training_file, mode='rb') as f:\n",
    "    train = pickle.load(f)\n",
    "with open(validation_file, mode='rb') as f:\n",
    "    valid = pickle.load(f)\n",
    "with open(testing_file, mode='rb') as f:\n",
    "    test = pickle.load(f)\n",
    "    \n",
    "X_train, y_train = train['features'], train['labels']\n",
    "X_valid, y_valid = valid['features'], valid['labels']\n",
    "X_test, y_test = test['features'], test['labels']"
   ]
  },
  {
   "cell_type": "markdown",
   "metadata": {},
   "source": [
    "---\n",
    "\n",
    "## Step 1: Dataset Summary & Exploration\n",
    "\n",
    "The pickled data is a dictionary with 4 key/value pairs:\n",
    "\n",
    "- `'features'` is a 4D array containing raw pixel data of the traffic sign images, (num examples, width, height, channels).\n",
    "- `'labels'` is a 1D array containing the label/class id of the traffic sign. The file `signnames.csv` contains id -> name mappings for each id.\n",
    "- `'sizes'` is a list containing tuples, (width, height) representing the original width and height the image.\n",
    "- `'coords'` is a list containing tuples, (x1, y1, x2, y2) representing coordinates of a bounding box around the sign in the image. **THESE COORDINATES ASSUME THE ORIGINAL IMAGE. THE PICKLED DATA CONTAINS RESIZED VERSIONS (32 by 32) OF THESE IMAGES**\n",
    "\n",
    "Complete the basic data summary below. Use python, numpy and/or pandas methods to calculate the data summary rather than hard coding the results. For example, the [pandas shape method](http://pandas.pydata.org/pandas-docs/stable/generated/pandas.DataFrame.shape.html) might be useful for calculating some of the summary results. "
   ]
  },
  {
   "cell_type": "markdown",
   "metadata": {},
   "source": [
    "### Provide a Basic Summary of the Data Set Using Python, Numpy and/or Pandas"
   ]
  },
  {
   "cell_type": "code",
   "execution_count": 4,
   "metadata": {},
   "outputs": [
    {
     "name": "stdout",
     "output_type": "stream",
     "text": [
      "Number of training examples = 34799\n",
      "Number of validation examples = 4410\n",
      "Number of testing examples = 12630\n",
      "Image data shape = (32, 32, 3)\n",
      "Number of classes = 43\n"
     ]
    }
   ],
   "source": [
    "### Replace each question mark with the appropriate value. \n",
    "### Use python, pandas or numpy methods rather than hard coding the results\n",
    "import pandas\n",
    "import numpy as np\n",
    "\n",
    "# TODO: Number of training examples\n",
    "n_train = len(X_train)\n",
    "\n",
    "# TODO: Number of validation examples\n",
    "n_validation = len(X_valid)\n",
    "\n",
    "# TODO: Number of testing examples.\n",
    "n_test = len(X_test)\n",
    "\n",
    "# TODO: What's the shape of an traffic sign image?\n",
    "image_shape = X_train[0].shape #(32,32,3)\n",
    "\n",
    "# TODO: How many unique classes/labels there are in the dataset.\n",
    "n_classes = len(np.unique(y_train))\n",
    "\n",
    "print(\"Number of training examples =\", n_train)\n",
    "print(\"Number of validation examples =\", n_validation)\n",
    "print(\"Number of testing examples =\", n_test)\n",
    "print(\"Image data shape =\", image_shape)\n",
    "print(\"Number of classes =\", n_classes)"
   ]
  },
  {
   "cell_type": "markdown",
   "metadata": {},
   "source": [
    "### Include an exploratory visualization of the dataset"
   ]
  },
  {
   "cell_type": "markdown",
   "metadata": {},
   "source": [
    "Visualize the German Traffic Signs Dataset using the pickled file(s). This is open ended, suggestions include: plotting traffic sign images, plotting the count of each sign, etc. \n",
    "\n",
    "The [Matplotlib](http://matplotlib.org/) [examples](http://matplotlib.org/examples/index.html) and [gallery](http://matplotlib.org/gallery.html) pages are a great resource for doing visualizations in Python.\n",
    "\n",
    "**NOTE:** It's recommended you start with something simple first. If you wish to do more, come back to it after you've completed the rest of the sections. It can be interesting to look at the distribution of classes in the training, validation and test set. Is the distribution the same? Are there more examples of some classes than others?"
   ]
  },
  {
   "cell_type": "code",
   "execution_count": 5,
   "metadata": {},
   "outputs": [
    {
     "name": "stdout",
     "output_type": "stream",
     "text": [
      "Image label: 41\n"
     ]
    },
    {
     "data": {
      "image/png": "[encoded data removed]",
      "text/plain": [
       "<matplotlib.figure.Figure at 0x11b18ad68>"
      ]
     },
     "metadata": {},
     "output_type": "display_data"
    }
   ],
   "source": [
    "### Data exploration visualization code goes here.\n",
    "### Feel free to use as many code cells as needed.\n",
    "import matplotlib.pyplot as plt\n",
    "# Visualizations will be shown in the notebook.\n",
    "%matplotlib inline\n",
    "\n",
    "train_idx = 10\n",
    "image = X_train[train_idx] \n",
    "\n",
    "plt.imshow(image)\n",
    "print(\"Image label: %s\" % y_train[train_idx])"
   ]
  },
  {
   "cell_type": "markdown",
   "metadata": {},
   "source": [
    "### Distributions"
   ]
  },
  {
   "cell_type": "code",
   "execution_count": 6,
   "metadata": {},
   "outputs": [
    {
     "data": {
      "image/png": "[encoded data removed]",
      "text/plain": [
       "<matplotlib.figure.Figure at 0x11b18a400>"
      ]
     },
     "metadata": {},
     "output_type": "display_data"
    }
   ],
   "source": [
    "# Count frequency of each label\n",
    "labels, counts = np.unique(y_train, return_counts=True)\n",
    "\n",
    "# Plot the histogram\n",
    "plt.rcParams[\"figure.figsize\"] = [15, 5]\n",
    "axes = plt.gca()\n",
    "axes.set_xlim([-1,43])\n",
    "\n",
    "plt.bar(labels, counts, tick_label=labels, width=0.5, align='center')\n",
    "plt.title('Training Data Class Distribution')\n",
    "plt.show()"
   ]
  },
  {
   "cell_type": "markdown",
   "metadata": {},
   "source": [
    "### Dataset Summary\n",
    "\n",
    "- the training dataset contains 34799 examples\n",
    "- the validation dataset contains 4410 examples\n",
    "- the test dataset contains 12630 examples\n",
    "- there are a total of 43 classes within the dataset\n",
    "- the class distribution chart indicates that not all classes are represented equally throughout the dataset."
   ]
  },
  {
   "cell_type": "markdown",
   "metadata": {},
   "source": [
    "----\n",
    "\n",
    "## Step 2: Design and Test a Model Architecture\n",
    "\n",
    "Design and implement a deep learning model that learns to recognize traffic signs. Train and test your model on the [German Traffic Sign Dataset](http://benchmark.ini.rub.de/?section=gtsrb&subsection=dataset).\n",
    "\n",
    "The LeNet-5 implementation shown in the [classroom](https://classroom.udacity.com/nanodegrees/nd013/parts/fbf77062-5703-404e-b60c-95b78b2f3f9e/modules/6df7ae49-c61c-4bb2-a23e-6527e69209ec/lessons/601ae704-1035-4287-8b11-e2c2716217ad/concepts/d4aca031-508f-4e0b-b493-e7b706120f81) at the end of the CNN lesson is a solid starting point. You'll have to change the number of classes and possibly the preprocessing, but aside from that it's plug and play! \n",
    "\n",
    "With the LeNet-5 solution from the lecture, you should expect a validation set accuracy of about 0.89. To meet specifications, the validation set accuracy will need to be at least 0.93. It is possible to get an even higher accuracy, but 0.93 is the minimum for a successful project submission. \n",
    "\n",
    "There are various aspects to consider when thinking about this problem:\n",
    "\n",
    "- Neural network architecture (is the network over or underfitting?)\n",
    "- Play around preprocessing techniques (normalization, rgb to grayscale, etc)\n",
    "- Number of examples per label (some have more than others).\n",
    "- Generate fake data.\n",
    "\n",
    "Here is an example of a [published baseline model on this problem](http://yann.lecun.com/exdb/publis/pdf/sermanet-ijcnn-11.pdf). It's not required to be familiar with the approach used in the paper but, it's good practice to try to read papers like these."
   ]
  },
  {
   "cell_type": "markdown",
   "metadata": {},
   "source": [
    "### Pre-process the Data Set (normalization, grayscale, etc.)"
   ]
  },
  {
   "cell_type": "markdown",
   "metadata": {},
   "source": [
    "Minimally, the image data should be normalized so that the data has mean zero and equal variance. For image data, `(pixel - 128)/ 128` is a quick way to approximately normalize the data and can be used in this project. \n",
    "\n",
    "Other pre-processing steps are optional. You can try different techniques to see if it improves performance. \n",
    "\n",
    "Use the code cell (or multiple code cells, if necessary) to implement the first step of your project. "
   ]
  },
  {
   "cell_type": "markdown",
   "metadata": {},
   "source": [
    "### Image Pre-processing Summary\n",
    "**Analysis**\n",
    "\n",
    "A series of techniques were tested individually and in combination to see how they would affect accuracy of the network including:\n",
    "- image normalization\n",
    "- conversion to grayscale and equalization of the histogram with openCV\n",
    "- image rotation at random indexes with the dataset, as well as a random rotation angle of 0, 90, 180 or 270 degrees\n",
    "- flipping images horizontally\n",
    "\n",
    "**Final Solution**\n",
    "\n",
    "Reading images in RBG and using image normalization as a pre-processing techniques yielded the best results."
   ]
  },
  {
   "cell_type": "code",
   "execution_count": 7,
   "metadata": {},
   "outputs": [],
   "source": [
    "### Preprocess the data here. It is required to normalize the data. Other preprocessing steps could include \n",
    "### converting to grayscale, etc.\n",
    "### Feel free to use as many code cells as needed.\n",
    "from sklearn.utils import shuffle\n",
    "from PIL import Image\n",
    "import scipy.ndimage\n",
    "import cv2\n",
    "import random\n",
    "\n",
    "X_train, y_train = shuffle(X_train, y_train)\n",
    "\n",
    "NUM_CHANNELS = 3"
   ]
  },
  {
   "cell_type": "markdown",
   "metadata": {},
   "source": [
    "### Normalize"
   ]
  },
  {
   "cell_type": "code",
   "execution_count": 8,
   "metadata": {
    "collapsed": true
   },
   "outputs": [],
   "source": [
    "def normalize_img(images):\n",
    "    images = np.asarray(images)\n",
    "    return (images - 128.)/128."
   ]
  },
  {
   "cell_type": "markdown",
   "metadata": {},
   "source": [
    "### Equalize Histogram"
   ]
  },
  {
   "cell_type": "code",
   "execution_count": 9,
   "metadata": {
    "collapsed": true
   },
   "outputs": [],
   "source": [
    "def equalize(image):\n",
    "    image = cv2.cvtColor(image, cv2.COLOR_RGB2GRAY)\n",
    "    image = cv2.equalizeHist(image)\n",
    "    return image.resize(image, (32, 32, 1))"
   ]
  },
  {
   "cell_type": "markdown",
   "metadata": {},
   "source": [
    "### Rotation"
   ]
  },
  {
   "cell_type": "code",
   "execution_count": 10,
   "metadata": {
    "collapsed": true
   },
   "outputs": [],
   "source": [
    "def rotate_img(image):\n",
    "    angles = [0.0, 90.0, 180.0, 270.0]\n",
    "    rand_angle = angles[random.randint(0, len(angles)-1)]\n",
    "    \n",
    "    return scipy.ndimage.rotate(image, rand_angle)"
   ]
  },
  {
   "cell_type": "markdown",
   "metadata": {},
   "source": [
    "### Transformation"
   ]
  },
  {
   "cell_type": "code",
   "execution_count": 11,
   "metadata": {
    "collapsed": true
   },
   "outputs": [],
   "source": [
    "def transform_img(image):\n",
    "    options = [-1,0,1]\n",
    "    return cv2.flip(image, options[random.randint(0, len(options)-1)])"
   ]
  },
  {
   "cell_type": "markdown",
   "metadata": {},
   "source": [
    "### Pre-process"
   ]
  },
  {
   "cell_type": "code",
   "execution_count": 12,
   "metadata": {
    "collapsed": true
   },
   "outputs": [],
   "source": [
    "def augment(original_image):\n",
    "    \n",
    "    copy = np.copy(original_image)\n",
    "    \n",
    "    # These methods were used to experiment with different pre-processing techniques\n",
    "    # But were not used in the final solution\n",
    "    # An explanation of the approach to pre-processing is in the Image Pre-processing Summary\n",
    "#     copy = rotate_img(copy)\n",
    "#     copy = transform_img(copy)\n",
    "#     copy = equalize(copy)\n",
    "\n",
    "    return copy\n",
    "\n",
    "def preprocess_batch(images, labels):\n",
    "    processed = []\n",
    "        \n",
    "    for i in range(len(images)):\n",
    "        img = augment(images[i])\n",
    "        \n",
    "        processed.append(img)\n",
    "        \n",
    "    return processed"
   ]
  },
  {
   "cell_type": "markdown",
   "metadata": {},
   "source": [
    "### Plot Samples"
   ]
  },
  {
   "cell_type": "markdown",
   "metadata": {},
   "source": [
    "Takes a sample of 6 random images from the first 50 in each set to display pre-processed examples."
   ]
  },
  {
   "cell_type": "code",
   "execution_count": 13,
   "metadata": {
    "collapsed": true
   },
   "outputs": [],
   "source": [
    "def plot_sample(images, labels):    \n",
    "    for i in range(6):\n",
    "        \n",
    "        rand_idx = random.randint(0,50)\n",
    "        img = images[rand_idx].copy()\n",
    "        label = labels[rand_idx]\n",
    "        \n",
    "        img = augment(img)\n",
    "        \n",
    "        # This step was necessary when using grayscale as a pre-processing tehchnique\n",
    "#         img = img.reshape(32,32)\n",
    "        \n",
    "        plt.subplot(2, 3, i+1)\n",
    "        plt.imshow(img)\n",
    "        plt.title('Label: %s' % labels[rand_idx])\n",
    "\n",
    "    plt.tight_layout()\n",
    "    plt.show()"
   ]
  },
  {
   "cell_type": "markdown",
   "metadata": {},
   "source": [
    "### Training Samples"
   ]
  },
  {
   "cell_type": "code",
   "execution_count": 14,
   "metadata": {},
   "outputs": [
    {
     "data": {
      "image/png": "[encoded data removed]",
      "text/plain": [
       "<matplotlib.figure.Figure at 0x1318b1780>"
      ]
     },
     "metadata": {},
     "output_type": "display_data"
    }
   ],
   "source": [
    "plot_sample(X_train, y_train)"
   ]
  },
  {
   "cell_type": "markdown",
   "metadata": {},
   "source": [
    "### Validation Samples"
   ]
  },
  {
   "cell_type": "code",
   "execution_count": 15,
   "metadata": {},
   "outputs": [
    {
     "data": {
      "image/png": "[encoded data removed]",
      "text/plain": [
       "<matplotlib.figure.Figure at 0x131cc7e48>"
      ]
     },
     "metadata": {},
     "output_type": "display_data"
    }
   ],
   "source": [
    "plot_sample(X_valid, y_valid)"
   ]
  },
  {
   "cell_type": "markdown",
   "metadata": {},
   "source": [
    "### Test Samples"
   ]
  },
  {
   "cell_type": "code",
   "execution_count": 16,
   "metadata": {},
   "outputs": [
    {
     "data": {
      "image/png": "[encoded data removed]",
      "text/plain": [
       "<matplotlib.figure.Figure at 0x131fc2908>"
      ]
     },
     "metadata": {},
     "output_type": "display_data"
    }
   ],
   "source": [
    "plot_sample(X_test, y_test)"
   ]
  },
  {
   "cell_type": "code",
   "execution_count": 17,
   "metadata": {
    "scrolled": true
   },
   "outputs": [
    {
     "name": "stdout",
     "output_type": "stream",
     "text": [
      "(32, 32, 3)\n"
     ]
    }
   ],
   "source": [
    "X_train = normalize_img(X_train)\n",
    "print(X_train[0].shape)"
   ]
  },
  {
   "cell_type": "code",
   "execution_count": 18,
   "metadata": {
    "collapsed": true
   },
   "outputs": [],
   "source": [
    "X_valid = normalize_img(X_valid)"
   ]
  },
  {
   "cell_type": "code",
   "execution_count": 19,
   "metadata": {
    "collapsed": true
   },
   "outputs": [],
   "source": [
    "X_test = normalize_img(X_test)"
   ]
  },
  {
   "cell_type": "markdown",
   "metadata": {},
   "source": [
    "### Model Architecture"
   ]
  },
  {
   "cell_type": "markdown",
   "metadata": {},
   "source": [
    "The final model builds on the LeNet-5 architecture with the addition of dropout between fully connected layers:\n",
    "* Convolutional Layer (In: 32x32x6, Out: 28x28x6)\n",
    "* ReLU Activation\n",
    "* Max Pooling         (Out: 14x14x6)\n",
    "* Convolutional Layer (Out: 10x10x16)\n",
    "* ReLU Activation\n",
    "* Max Pooling         (Out: 5x5x16)\n",
    "* Flatten             (Depth - 400)\n",
    "* Fully Connected     (Depth - 120)\n",
    "* ReLU Activation\n",
    "* Dropout             (Keep - 0.75)\n",
    "* Fully Connected     (Depth - 84)\n",
    "* ReLU Activation\n",
    "* Dropout             (Keep - 0.75)\n",
    "* Fully Connected     (Depth - 43)"
   ]
  },
  {
   "cell_type": "markdown",
   "metadata": {},
   "source": [
    "### Model Training\n",
    "\n",
    "**Analysis**\n",
    "\n",
    "The model was tuned by varying the following:\n",
    "- hyperparameters\n",
    "- batch size\n",
    "- learning rate\n",
    "- dropout\n",
    "- number of epochs\n",
    "\n",
    "Decreasing sigma resulted in improved network performance. The network tended to peform better with smaller batch sizes of 64 and 128 in comparison to larger batches of 256, 512 and 1024, which resulted in a longer time to convergence and increased memory usage. The network also performed better with small learning rates.\n",
    "\n",
    "Adding dropout to the network improved overall performance; however, lower keep probabilites adversely affected network accuracy. For example, the final dropout probability of 0.75 performed better than a higher dropout of 0.5.\n",
    "\n",
    "**Solution**\n",
    "\n",
    "The following values consistently achieved 93% accuracy or higher on the validation set:\n",
    "- mu: 0.0\n",
    "- sigma: 0.05\n",
    "- batch size: 128\n",
    "- learning rate: 0.001\n",
    "- keep probability: 0.75\n",
    "- epochs: 60"
   ]
  },
  {
   "cell_type": "markdown",
   "metadata": {},
   "source": [
    "### Model Performance\n",
    "\n",
    "**Validation Accuracy**\n",
    "\n",
    "The model achieved 94% accuracy on the validation set.\n",
    "\n",
    "**Test Accuracy**\n",
    "\n",
    "The model achieved 91.7% accuracy on the test set.\n",
    "\n",
    "**New Image Accuracy**\n",
    "\n",
    "The model achieved 83.3% accuracy on new images found on the web.\n"
   ]
  },
  {
   "cell_type": "markdown",
   "metadata": {},
   "source": [
    "### Tensor Flow"
   ]
  },
  {
   "cell_type": "code",
   "execution_count": 20,
   "metadata": {
    "collapsed": true
   },
   "outputs": [],
   "source": [
    "import tensorflow as tf\n",
    "import time\n",
    "\n",
    "EPOCHS = 60\n",
    "BATCH_SIZE = 128\n",
    "KEEP = 0.75"
   ]
  },
  {
   "cell_type": "markdown",
   "metadata": {},
   "source": [
    "### Define Model"
   ]
  },
  {
   "cell_type": "code",
   "execution_count": 21,
   "metadata": {
    "collapsed": true
   },
   "outputs": [],
   "source": [
    "### Define your architecture here.\n",
    "### Feel free to use as many code cells as needed.\n",
    "\n",
    "# This model will use an LeNet architecture\n",
    "from tensorflow.contrib.layers import flatten\n",
    "\n",
    "# Hyperparameters\n",
    "mu = 0\n",
    "sigma = 0.05\n",
    "\n",
    "def LeNet(x):\n",
    "    \n",
    "    \n",
    "    # Layer 1 - Convolution\n",
    "    conv1_W = tf.Variable(tf.truncated_normal(shape=(5, 5, NUM_CHANNELS, 6), mean = mu, stddev = sigma))\n",
    "    conv1_b = tf.Variable(tf.zeros(6))\n",
    "    conv1   = tf.nn.conv2d(x, conv1_W, strides=[1, 1, 1, 1], padding='VALID') + conv1_b\n",
    "    \n",
    "    ## ReLU Activation\n",
    "    conv1 = tf.nn.relu(conv1)\n",
    "    \n",
    "    # Max Pooling\n",
    "    conv1 = tf.nn.max_pool(conv1, ksize=[1, 2, 2, 1], strides=[1, 2, 2, 1], padding='VALID')\n",
    "    \n",
    "    # Layer 2 - Convolution\n",
    "    conv2_W = tf.Variable(tf.truncated_normal(shape=(5, 5, 6, 16), mean = mu, stddev = sigma))\n",
    "    conv2_b = tf.Variable(tf.zeros(16))\n",
    "    conv2   = tf.nn.conv2d(conv1, conv2_W, strides=[1, 1, 1, 1], padding='VALID') + conv2_b\n",
    "    \n",
    "    ## ReLU Activation\n",
    "    conv2 = tf.nn.relu(conv2)\n",
    "    \n",
    "    ## Max Pooling\n",
    "    conv2 = tf.nn.max_pool(conv2, ksize=[1, 2, 2, 1], strides=[1, 2, 2, 1], padding='VALID')\n",
    "    \n",
    "    ## Flatten\n",
    "    fc0 = flatten(conv2)\n",
    "    \n",
    "    # Layer 3 - Fully Connected\n",
    "    fc1_W = tf.Variable(tf.truncated_normal(shape=(400, 120), mean = mu, stddev = sigma))\n",
    "    fc1_b = tf.Variable(tf.zeros(120))\n",
    "    fc1   = tf.matmul(fc0, fc1_W) + fc1_b\n",
    "    \n",
    "    ## ReLU Activation\n",
    "    fc1 = tf.nn.relu(fc1)\n",
    "    \n",
    "    # Dropout 1\n",
    "    fc1 = tf.nn.dropout(fc1, KEEP)\n",
    "    \n",
    "    # Layer 4 - Fully Connected\n",
    "    fc2_W  = tf.Variable(tf.truncated_normal(shape=(120, 84), mean = mu, stddev = sigma))\n",
    "    fc2_b  = tf.Variable(tf.zeros(84))\n",
    "    fc2    = tf.matmul(fc1, fc2_W) + fc2_b\n",
    "    \n",
    "    # ReLU Activation\n",
    "    fc2 = tf.nn.relu(fc2)\n",
    "    \n",
    "    # Dropout 2\n",
    "    fc2 = tf.nn.dropout(fc2, KEEP)\n",
    "    \n",
    "    # Layer 5 - Fully Connected\n",
    "    fc3_W  = tf.Variable(tf.truncated_normal(shape=(84, 43), mean = mu, stddev = sigma))\n",
    "    fc3_b  = tf.Variable(tf.zeros(43))\n",
    "    logits = tf.matmul(fc2, fc3_W) + fc3_b\n",
    "    \n",
    "    return logits"
   ]
  },
  {
   "cell_type": "markdown",
   "metadata": {},
   "source": [
    "### Train, Validate and Test the Model"
   ]
  },
  {
   "cell_type": "markdown",
   "metadata": {},
   "source": [
    "A validation set can be used to assess how well the model is performing. A low accuracy on the training and validation\n",
    "sets imply underfitting. A high accuracy on the training set but low accuracy on the validation set implies overfitting."
   ]
  },
  {
   "cell_type": "code",
   "execution_count": 22,
   "metadata": {},
   "outputs": [
    {
     "name": "stdout",
     "output_type": "stream",
     "text": [
      "Tensor(\"add_4:0\", shape=(?, 43), dtype=float32)\n"
     ]
    }
   ],
   "source": [
    "### Train your model here.\n",
    "### Calculate and report the accuracy on the training and validation set.\n",
    "### Once a final model architecture is selected, \n",
    "### the accuracy on the test set should be calculated and reported as well.\n",
    "### Feel free to use as many code cells as needed.\n",
    "\n",
    "x = tf.placeholder(tf.float32, (None, 32, 32, NUM_CHANNELS))\n",
    "y = tf.placeholder(tf.int32, (None))\n",
    "one_hot_y = tf.one_hot(y, n_classes)\n",
    "\n",
    "learning_rate = 0.001 # default: 0.001\n",
    "\n",
    "logits = LeNet(x)\n",
    "\n",
    "print(logits)\n",
    "\n",
    "cross_entropy = tf.nn.softmax_cross_entropy_with_logits(labels=one_hot_y, logits=logits)\n",
    "loss_operation = tf.reduce_mean(cross_entropy)\n",
    "optimizer = tf.train.AdamOptimizer(learning_rate = learning_rate)\n",
    "training_operation = optimizer.minimize(loss_operation)"
   ]
  },
  {
   "cell_type": "markdown",
   "metadata": {},
   "source": [
    "### Model Evaluation"
   ]
  },
  {
   "cell_type": "code",
   "execution_count": 23,
   "metadata": {
    "collapsed": true
   },
   "outputs": [],
   "source": [
    "correct_prediction = tf.equal(tf.argmax(logits, 1), tf.argmax(one_hot_y, 1))\n",
    "accuracy_operation = tf.reduce_mean(tf.cast(correct_prediction, tf.float32))\n",
    "saver = tf.train.Saver()\n",
    "\n",
    "def evaluate(X_data, y_data):\n",
    "    num_examples = len(X_data)\n",
    "    total_accuracy = 0\n",
    "    sess = tf.get_default_session()\n",
    "    for offset in range(0, num_examples, BATCH_SIZE):\n",
    "        batch_x, batch_y = X_data[offset:offset+BATCH_SIZE], y_data[offset:offset+BATCH_SIZE]\n",
    "        accuracy = sess.run(accuracy_operation, feed_dict={x: batch_x, y: batch_y})\n",
    "        total_accuracy += (accuracy * len(batch_x))\n",
    "    return total_accuracy / num_examples"
   ]
  },
  {
   "cell_type": "code",
   "execution_count": 24,
   "metadata": {
    "collapsed": true
   },
   "outputs": [],
   "source": [
    "def plot_accuracy(accy_points):\n",
    "    plt.plot(accy_points, 'g')\n",
    "    plt.title('Error vs Epochs')\n",
    "    plt.ylabel('Error')\n",
    "    plt.xlabel('Epoch')\n",
    "    plt.show()"
   ]
  },
  {
   "cell_type": "markdown",
   "metadata": {},
   "source": [
    "### Train Model"
   ]
  },
  {
   "cell_type": "code",
   "execution_count": 25,
   "metadata": {
    "scrolled": false
   },
   "outputs": [
    {
     "name": "stdout",
     "output_type": "stream",
     "text": [
      "Training...\n",
      "Parameter tuning:\n",
      "Color channels: 3\n",
      "Batch size: 128\n",
      "Sigma: 0.05\n",
      "Learning rate: 0.001\n",
      "Epochs: 60\n",
      "\n",
      "EPOCH 1\n",
      "Validation Accuracy  ---> 39.3%\n",
      "Error                ---> 60.7%\n",
      "Elapsed              ---> 0.4 minutes\n",
      "\n",
      "EPOCH 2\n",
      "Validation Accuracy  ---> 64.7%\n",
      "Error                ---> 35.3%\n",
      "Elapsed              ---> 0.7 minutes\n",
      "\n",
      "EPOCH 3\n",
      "Validation Accuracy  ---> 76.3%\n",
      "Error                ---> 23.7%\n",
      "Elapsed              ---> 1.1 minutes\n",
      "\n",
      "EPOCH 4\n",
      "Validation Accuracy  ---> 81.5%\n",
      "Error                ---> 18.5%\n",
      "Elapsed              ---> 1.4 minutes\n",
      "\n",
      "EPOCH 5\n",
      "Validation Accuracy  ---> 84.2%\n",
      "Error                ---> 15.8%\n",
      "Elapsed              ---> 1.8 minutes\n",
      "\n",
      "EPOCH 6\n",
      "Validation Accuracy  ---> 85.1%\n",
      "Error                ---> 14.9%\n",
      "Elapsed              ---> 2.1 minutes\n",
      "\n",
      "EPOCH 7\n",
      "Validation Accuracy  ---> 86.4%\n",
      "Error                ---> 13.6%\n",
      "Elapsed              ---> 2.5 minutes\n",
      "\n",
      "EPOCH 8\n",
      "Validation Accuracy  ---> 87.9%\n",
      "Error                ---> 12.1%\n",
      "Elapsed              ---> 2.8 minutes\n",
      "\n",
      "EPOCH 9\n",
      "Validation Accuracy  ---> 87.7%\n",
      "Error                ---> 12.3%\n",
      "Elapsed              ---> 3.2 minutes\n",
      "\n",
      "EPOCH 10\n",
      "Validation Accuracy  ---> 88.9%\n",
      "Error                ---> 11.1%\n",
      "Elapsed              ---> 3.6 minutes\n",
      "\n",
      "EPOCH 11\n",
      "Validation Accuracy  ---> 90.0%\n",
      "Error                ---> 10.0%\n",
      "Elapsed              ---> 4.0 minutes\n",
      "\n",
      "EPOCH 12\n",
      "Validation Accuracy  ---> 89.4%\n",
      "Error                ---> 10.6%\n",
      "Elapsed              ---> 4.4 minutes\n",
      "\n",
      "EPOCH 13\n",
      "Validation Accuracy  ---> 90.5%\n",
      "Error                ---> 9.5%\n",
      "Elapsed              ---> 4.8 minutes\n",
      "\n",
      "EPOCH 14\n",
      "Validation Accuracy  ---> 91.0%\n",
      "Error                ---> 9.0%\n",
      "Elapsed              ---> 5.2 minutes\n",
      "\n",
      "EPOCH 15\n",
      "Validation Accuracy  ---> 91.0%\n",
      "Error                ---> 9.0%\n",
      "Elapsed              ---> 5.5 minutes\n",
      "\n",
      "EPOCH 16\n",
      "Validation Accuracy  ---> 91.1%\n",
      "Error                ---> 8.9%\n",
      "Elapsed              ---> 5.9 minutes\n",
      "\n",
      "EPOCH 17\n",
      "Validation Accuracy  ---> 91.9%\n",
      "Error                ---> 8.1%\n",
      "Elapsed              ---> 6.3 minutes\n",
      "\n",
      "EPOCH 18\n",
      "Validation Accuracy  ---> 91.1%\n",
      "Error                ---> 8.9%\n",
      "Elapsed              ---> 6.7 minutes\n",
      "\n",
      "EPOCH 19\n",
      "Validation Accuracy  ---> 91.3%\n",
      "Error                ---> 8.7%\n",
      "Elapsed              ---> 7.1 minutes\n",
      "\n",
      "EPOCH 20\n",
      "Validation Accuracy  ---> 92.0%\n",
      "Error                ---> 8.0%\n",
      "Elapsed              ---> 7.5 minutes\n",
      "\n",
      "EPOCH 21\n",
      "Validation Accuracy  ---> 92.5%\n",
      "Error                ---> 7.5%\n",
      "Elapsed              ---> 7.9 minutes\n",
      "\n",
      "EPOCH 22\n",
      "Validation Accuracy  ---> 92.2%\n",
      "Error                ---> 7.8%\n",
      "Elapsed              ---> 8.4 minutes\n",
      "\n",
      "EPOCH 23\n",
      "Validation Accuracy  ---> 92.8%\n",
      "Error                ---> 7.2%\n",
      "Elapsed              ---> 8.8 minutes\n",
      "\n",
      "EPOCH 24\n",
      "Validation Accuracy  ---> 92.5%\n",
      "Error                ---> 7.5%\n",
      "Elapsed              ---> 9.2 minutes\n",
      "\n",
      "EPOCH 25\n",
      "Validation Accuracy  ---> 92.5%\n",
      "Error                ---> 7.5%\n",
      "Elapsed              ---> 9.6 minutes\n",
      "\n",
      "EPOCH 26\n",
      "Validation Accuracy  ---> 91.8%\n",
      "Error                ---> 8.2%\n",
      "Elapsed              ---> 10.0 minutes\n",
      "\n",
      "EPOCH 27\n",
      "Validation Accuracy  ---> 92.0%\n",
      "Error                ---> 8.0%\n",
      "Elapsed              ---> 10.4 minutes\n",
      "\n",
      "EPOCH 28\n",
      "Validation Accuracy  ---> 92.8%\n",
      "Error                ---> 7.2%\n",
      "Elapsed              ---> 10.8 minutes\n",
      "\n",
      "EPOCH 29\n",
      "Validation Accuracy  ---> 92.9%\n",
      "Error                ---> 7.1%\n",
      "Elapsed              ---> 11.3 minutes\n",
      "\n",
      "EPOCH 30\n",
      "Validation Accuracy  ---> 92.5%\n",
      "Error                ---> 7.5%\n",
      "Elapsed              ---> 11.7 minutes\n",
      "\n",
      "EPOCH 31\n",
      "Validation Accuracy  ---> 92.4%\n",
      "Error                ---> 7.6%\n",
      "Elapsed              ---> 12.1 minutes\n",
      "\n",
      "EPOCH 32\n",
      "Validation Accuracy  ---> 92.0%\n",
      "Error                ---> 8.0%\n",
      "Elapsed              ---> 12.5 minutes\n",
      "\n",
      "EPOCH 33\n",
      "Validation Accuracy  ---> 92.9%\n",
      "Error                ---> 7.1%\n",
      "Elapsed              ---> 13.0 minutes\n",
      "\n",
      "EPOCH 34\n",
      "Validation Accuracy  ---> 93.4%\n",
      "Error                ---> 6.6%\n",
      "Elapsed              ---> 13.4 minutes\n",
      "\n",
      "EPOCH 35\n",
      "Validation Accuracy  ---> 92.5%\n",
      "Error                ---> 7.5%\n",
      "Elapsed              ---> 13.8 minutes\n",
      "\n",
      "EPOCH 36\n",
      "Validation Accuracy  ---> 93.3%\n",
      "Error                ---> 6.7%\n",
      "Elapsed              ---> 14.3 minutes\n",
      "\n",
      "EPOCH 37\n",
      "Validation Accuracy  ---> 93.8%\n",
      "Error                ---> 6.2%\n",
      "Elapsed              ---> 14.7 minutes\n",
      "\n",
      "EPOCH 38\n",
      "Validation Accuracy  ---> 92.2%\n",
      "Error                ---> 7.8%\n",
      "Elapsed              ---> 15.1 minutes\n",
      "\n",
      "EPOCH 39\n",
      "Validation Accuracy  ---> 93.3%\n",
      "Error                ---> 6.7%\n",
      "Elapsed              ---> 15.5 minutes\n",
      "\n",
      "EPOCH 40\n",
      "Validation Accuracy  ---> 92.7%\n",
      "Error                ---> 7.3%\n",
      "Elapsed              ---> 15.9 minutes\n",
      "\n",
      "EPOCH 41\n",
      "Validation Accuracy  ---> 93.5%\n",
      "Error                ---> 6.5%\n",
      "Elapsed              ---> 16.3 minutes\n",
      "\n",
      "EPOCH 42\n",
      "Validation Accuracy  ---> 93.2%\n",
      "Error                ---> 6.8%\n",
      "Elapsed              ---> 16.7 minutes\n",
      "\n",
      "EPOCH 43\n",
      "Validation Accuracy  ---> 92.9%\n",
      "Error                ---> 7.1%\n",
      "Elapsed              ---> 17.1 minutes\n",
      "\n",
      "EPOCH 44\n",
      "Validation Accuracy  ---> 92.9%\n",
      "Error                ---> 7.1%\n",
      "Elapsed              ---> 17.6 minutes\n",
      "\n",
      "EPOCH 45\n",
      "Validation Accuracy  ---> 93.6%\n",
      "Error                ---> 6.4%\n",
      "Elapsed              ---> 18.0 minutes\n",
      "\n",
      "EPOCH 46\n",
      "Validation Accuracy  ---> 93.3%\n",
      "Error                ---> 6.7%\n",
      "Elapsed              ---> 18.4 minutes\n",
      "\n",
      "EPOCH 47\n",
      "Validation Accuracy  ---> 93.2%\n",
      "Error                ---> 6.8%\n",
      "Elapsed              ---> 18.8 minutes\n",
      "\n",
      "EPOCH 48\n",
      "Validation Accuracy  ---> 92.9%\n",
      "Error                ---> 7.1%\n",
      "Elapsed              ---> 19.3 minutes\n",
      "\n",
      "EPOCH 49\n",
      "Validation Accuracy  ---> 92.5%\n",
      "Error                ---> 7.5%\n",
      "Elapsed              ---> 19.6 minutes\n",
      "\n",
      "EPOCH 50\n",
      "Validation Accuracy  ---> 93.4%\n",
      "Error                ---> 6.6%\n",
      "Elapsed              ---> 20.1 minutes\n",
      "\n",
      "EPOCH 51\n",
      "Validation Accuracy  ---> 93.3%\n",
      "Error                ---> 6.7%\n",
      "Elapsed              ---> 20.5 minutes\n",
      "\n",
      "EPOCH 52\n",
      "Validation Accuracy  ---> 94.6%\n",
      "Error                ---> 5.4%\n",
      "Elapsed              ---> 21.0 minutes\n",
      "\n",
      "EPOCH 53\n",
      "Validation Accuracy  ---> 93.7%\n",
      "Error                ---> 6.3%\n",
      "Elapsed              ---> 21.4 minutes\n",
      "\n",
      "EPOCH 54\n",
      "Validation Accuracy  ---> 93.9%\n",
      "Error                ---> 6.1%\n",
      "Elapsed              ---> 21.9 minutes\n",
      "\n",
      "EPOCH 55\n",
      "Validation Accuracy  ---> 93.4%\n",
      "Error                ---> 6.6%\n",
      "Elapsed              ---> 22.3 minutes\n",
      "\n",
      "EPOCH 56\n",
      "Validation Accuracy  ---> 93.2%\n",
      "Error                ---> 6.8%\n",
      "Elapsed              ---> 22.7 minutes\n",
      "\n",
      "EPOCH 57\n",
      "Validation Accuracy  ---> 93.9%\n",
      "Error                ---> 6.1%\n",
      "Elapsed              ---> 23.1 minutes\n",
      "\n",
      "EPOCH 58\n",
      "Validation Accuracy  ---> 93.6%\n",
      "Error                ---> 6.4%\n",
      "Elapsed              ---> 23.5 minutes\n",
      "\n",
      "EPOCH 59\n",
      "Validation Accuracy  ---> 93.6%\n",
      "Error                ---> 6.4%\n",
      "Elapsed              ---> 23.9 minutes\n",
      "\n",
      "EPOCH 60\n",
      "Validation Accuracy  ---> 94.2%\n",
      "Error                ---> 5.8%\n",
      "Elapsed              ---> 24.3 minutes\n",
      "\n",
      "Model saved\n"
     ]
    },
    {
     "data": {
      "image/png": "[encoded data removed]",
      "text/plain": [
       "<matplotlib.figure.Figure at 0x188407f98>"
      ]
     },
     "metadata": {},
     "output_type": "display_data"
    }
   ],
   "source": [
    "with tf.Session() as sess:\n",
    "    sess.run(tf.global_variables_initializer())\n",
    "    num_examples = len(X_train)\n",
    "    valid_hist_points = []\n",
    "    \n",
    "    start_time = time.time()\n",
    "    \n",
    "    print(\"Training...\")\n",
    "    print(\"Parameter tuning:\")\n",
    "    print(\"Color channels: {}\".format(NUM_CHANNELS))\n",
    "    print(\"Batch size: {}\".format(BATCH_SIZE))\n",
    "    print(\"Sigma: {}\".format(sigma))\n",
    "    print(\"Learning rate: {}\".format(learning_rate))\n",
    "    print(\"Epochs: {}\".format(EPOCHS))\n",
    "    print()\n",
    "    \n",
    "    for i in range(EPOCHS):\n",
    "        X_train, y_train = shuffle(X_train, y_train)\n",
    "        for offset in range(0, num_examples, BATCH_SIZE):\n",
    "            end = offset + BATCH_SIZE\n",
    "            batch_x, batch_y = X_train[offset:end], y_train[offset:end]\n",
    "            sess.run(training_operation, feed_dict={x: batch_x, y: batch_y})\n",
    "            \n",
    "        validation_accuracy = evaluate(X_valid, y_valid)\n",
    "        valid_hist_points.append((1 - validation_accuracy) * 100)\n",
    "        \n",
    "        elapsed = (time.time() - start_time)/60\n",
    "        \n",
    "        print(\"EPOCH {}\".format((i+1)))\n",
    "        print(\"Validation Accuracy  ---> {:.1f}%\".format(validation_accuracy * 100))\n",
    "        print(\"Error                ---> {:.1f}%\".format((1 - validation_accuracy) * 100))\n",
    "        print(\"Elapsed              ---> {:.1f} minutes\".format(elapsed))\n",
    "        print()\n",
    "        \n",
    "    saver.save(sess, './lenet')\n",
    "    print(\"Model saved\")\n",
    "    plot_accuracy(valid_hist_points)"
   ]
  },
  {
   "cell_type": "markdown",
   "metadata": {},
   "source": [
    "---\n",
    "\n",
    "## Step 3: Test a Model on New Images\n",
    "\n",
    "To give yourself more insight into how your model is working, download at least five pictures of German traffic signs from the web and use your model to predict the traffic sign type.\n",
    "\n",
    "You may find `signnames.csv` useful as it contains mappings from the class id (integer) to the actual sign name."
   ]
  },
  {
   "cell_type": "markdown",
   "metadata": {},
   "source": [
    "### Load and Output the Images"
   ]
  },
  {
   "cell_type": "code",
   "execution_count": 26,
   "metadata": {},
   "outputs": [
    {
     "data": {
      "image/png": "[encoded data removed]",
      "text/plain": [
       "<matplotlib.figure.Figure at 0x1883644e0>"
      ]
     },
     "metadata": {},
     "output_type": "display_data"
    }
   ],
   "source": [
    "### Load the images and plot them here.\n",
    "### Feel free to use as many code cells as needed.\n",
    "from scipy.misc import imread\n",
    "\n",
    "IMG_SIZE = 32\n",
    "\n",
    "img_path = \"./new_traffic_signs/\"\n",
    "image_names = ['image1.jpg', 'image2.jpg', 'image3.jpg', 'image4.jpg', 'image5.jpg', 'image6.jpg']\n",
    "new_labels = [1,  # speed limit 30\n",
    "              11, # Right-of-way at the next intersection\n",
    "              25, # road work\n",
    "              2,  # speed limit 50\n",
    "              17, # no entry\n",
    "              22]  # bumpy road\n",
    "\n",
    "new_images = []\n",
    "\n",
    "for name in image_names:\n",
    "    # Read image    \n",
    "    img = Image.open(img_path+name)\n",
    "    img = img.convert('RGB')\n",
    "    img = img.resize((IMG_SIZE, IMG_SIZE), Image.ANTIALIAS)\n",
    "    img = np.array(list(img.getdata()), dtype='uint8')\n",
    "    img = np.reshape(img, (32, 32, 3))\n",
    "\n",
    "    new_images.append(img)\n",
    "\n",
    "new_images = np.array(new_images, dtype='uint8')\n",
    "    \n",
    "def plot_custom_samples():\n",
    "\n",
    "    for i in range(len(new_images)):\n",
    "        image = new_images[i]\n",
    "        plt.subplot(2, 3, i+1)\n",
    "        plt.imshow(image)\n",
    "        plt.title('Label: %s' % new_labels[i])\n",
    "\n",
    "    plt.tight_layout()\n",
    "    plt.show()\n",
    "\n",
    "plot_custom_samples()"
   ]
  },
  {
   "cell_type": "markdown",
   "metadata": {},
   "source": [
    "### Predict the Sign Type for Each Image"
   ]
  },
  {
   "cell_type": "code",
   "execution_count": 27,
   "metadata": {},
   "outputs": [
    {
     "name": "stdout",
     "output_type": "stream",
     "text": [
      "INFO:tensorflow:Restoring parameters from ./lenet\n"
     ]
    }
   ],
   "source": [
    "### Run the predictions here and use the model to output the prediction for each image.\n",
    "### Make sure to pre-process the images with the same pre-processing pipeline used earlier.\n",
    "### Feel free to use as many code cells as needed.\n",
    "\n",
    "new_preprocessed_images = preprocess_batch(new_images, new_labels)\n",
    "\n",
    "with tf.Session() as sess:\n",
    "    saver.restore(sess, './lenet')\n",
    "\n",
    "    keep_prob = tf.placeholder(tf.float32)\n",
    "\n",
    "    softmax = tf.nn.softmax(logits)\n",
    "    normalized_prob = sess.run(softmax, feed_dict={x: new_preprocessed_images, keep_prob: 1.0})\n",
    "    \n",
    "    probs = sess.run(tf.nn.top_k(tf.constant(normalized_prob), k=5, sorted=True))"
   ]
  },
  {
   "cell_type": "markdown",
   "metadata": {},
   "source": [
    "### Analyze Performance"
   ]
  },
  {
   "cell_type": "code",
   "execution_count": 28,
   "metadata": {},
   "outputs": [
    {
     "name": "stdout",
     "output_type": "stream",
     "text": [
      "INFO:tensorflow:Restoring parameters from ./lenet\n",
      "Test Accuracy = 91.7%\n",
      "New Image Accuracy = 83.3%\n"
     ]
    }
   ],
   "source": [
    "### Calculate the accuracy for these 5 new images. \n",
    "### For example, if the model predicted 1 out of 5 signs correctly, it's 20% accurate on these new images.\n",
    "\n",
    "with tf.Session() as sess:\n",
    "    saver.restore(sess, tf.train.latest_checkpoint('.'))\n",
    "    \n",
    "    # Test Set\n",
    "    test_accuracy = evaluate(X_test, y_test)\n",
    "    print(\"Test Accuracy = {:.1f}%\".format(test_accuracy * 100))\n",
    "    \n",
    "    # New Image Set\n",
    "    new_accuracy = evaluate(new_images, new_labels)\n",
    "    print(\"New Image Accuracy = {:.1f}%\".format(new_accuracy * 100))"
   ]
  },
  {
   "cell_type": "markdown",
   "metadata": {},
   "source": [
    "### Output Top 5 Softmax Probabilities For Each Image Found on the Web"
   ]
  },
  {
   "cell_type": "markdown",
   "metadata": {},
   "source": [
    "For each of the new images, print out the model's softmax probabilities to show the **certainty** of the model's predictions (limit the output to the top 5 probabilities for each image). [`tf.nn.top_k`](https://www.tensorflow.org/versions/r0.12/api_docs/python/nn.html#top_k) could prove helpful here. \n",
    "\n",
    "The example below demonstrates how tf.nn.top_k can be used to find the top k predictions for each image.\n",
    "\n",
    "`tf.nn.top_k` will return the values and indices (class ids) of the top k predictions. So if k=3, for each sign, it'll return the 3 largest probabilities (out of a possible 43) and the correspoding class ids.\n",
    "\n",
    "Take this numpy array as an example. The values in the array represent predictions. The array contains softmax probabilities for five candidate images with six possible classes. `tk.nn.top_k` is used to choose the three classes with the highest probability:\n",
    "\n",
    "```\n",
    "# (5, 6) array\n",
    "a = np.array([[ 0.24879643,  0.07032244,  0.12641572,  0.34763842,  0.07893497,\n",
    "         0.12789202],\n",
    "       [ 0.28086119,  0.27569815,  0.08594638,  0.0178669 ,  0.18063401,\n",
    "         0.15899337],\n",
    "       [ 0.26076848,  0.23664738,  0.08020603,  0.07001922,  0.1134371 ,\n",
    "         0.23892179],\n",
    "       [ 0.11943333,  0.29198961,  0.02605103,  0.26234032,  0.1351348 ,\n",
    "         0.16505091],\n",
    "       [ 0.09561176,  0.34396535,  0.0643941 ,  0.16240774,  0.24206137,\n",
    "         0.09155967]])\n",
    "```\n",
    "\n",
    "Running it through `sess.run(tf.nn.top_k(tf.constant(a), k=3))` produces:\n",
    "\n",
    "```\n",
    "TopKV2(values=array([[ 0.34763842,  0.24879643,  0.12789202],\n",
    "       [ 0.28086119,  0.27569815,  0.18063401],\n",
    "       [ 0.26076848,  0.23892179,  0.23664738],\n",
    "       [ 0.29198961,  0.26234032,  0.16505091],\n",
    "       [ 0.34396535,  0.24206137,  0.16240774]]), indices=array([[3, 0, 5],\n",
    "       [0, 1, 4],\n",
    "       [0, 5, 1],\n",
    "       [1, 3, 5],\n",
    "       [1, 4, 3]], dtype=int32))\n",
    "```\n",
    "\n",
    "Looking just at the first row we get `[ 0.34763842,  0.24879643,  0.12789202]`, you can confirm these are the 3 largest probabilities in `a`. You'll also notice `[3, 0, 5]` are the corresponding indices."
   ]
  },
  {
   "cell_type": "code",
   "execution_count": 29,
   "metadata": {},
   "outputs": [
    {
     "name": "stdout",
     "output_type": "stream",
     "text": [
      "TopKV2(values=array([[ 1.,  0.,  0.,  0.,  0.],\n",
      "       [ 1.,  0.,  0.,  0.,  0.],\n",
      "       [ 1.,  0.,  0.,  0.,  0.],\n",
      "       [ 1.,  0.,  0.,  0.,  0.],\n",
      "       [ 1.,  0.,  0.,  0.,  0.],\n",
      "       [ 1.,  0.,  0.,  0.,  0.]], dtype=float32), indices=array([[ 1,  0,  2,  3,  4],\n",
      "       [11,  0,  1,  2,  3],\n",
      "       [25,  0,  1,  2,  3],\n",
      "       [26,  0,  1,  2,  3],\n",
      "       [17,  0,  1,  2,  3],\n",
      "       [22,  0,  1,  2,  3]], dtype=int32))\n"
     ]
    }
   ],
   "source": [
    "### Print out the top five softmax probabilities for the predictions on the German traffic sign images found on the web. \n",
    "### Feel free to use as many code cells as needed.\n",
    "print(probs)"
   ]
  },
  {
   "cell_type": "markdown",
   "metadata": {},
   "source": [
    "### Test results on new images\n",
    "\n",
    "The model accurately classified 5 out of 6 images from the web correctly, and demonstrated a high level of certainty in each prediction. However, the model was unable to classify the \"Speed limit (50 km/h)\" sign correctly, which was classified incorrectly as \"Traffic signals.\"\n",
    "\n",
    "Looking further into the data, \"Traffic signals\" was under-represented in the training dataset compared to other classes, which may have limited the model's ability to learn a representation that differentiates \"Traffic signals\" from \"Speed limit(50 km/h).\"\n",
    "\n",
    "More generally, other under-represented classes in the dataset could contribute to other classification errors."
   ]
  },
  {
   "cell_type": "code",
   "execution_count": 30,
   "metadata": {},
   "outputs": [
    {
     "data": {
      "image/png": "[encoded data removed]",
      "text/plain": [
       "<matplotlib.figure.Figure at 0x11fe681d0>"
      ]
     },
     "metadata": {},
     "output_type": "display_data"
    },
    {
     "name": "stdout",
     "output_type": "stream",
     "text": [
      "Image 1\n",
      "Correct label: 1\n",
      "Rank 1: 1 ---> Probability: 1.0\n",
      "Rank 2: 0 ---> Probability: 0.0\n",
      "Rank 3: 2 ---> Probability: 0.0\n",
      "Rank 4: 3 ---> Probability: 0.0\n",
      "Rank 5: 4 ---> Probability: 0.0\n",
      "\n",
      "Image 2\n",
      "Correct label: 11\n",
      "Rank 1: 11 ---> Probability: 1.0\n",
      "Rank 2: 0 ---> Probability: 0.0\n",
      "Rank 3: 1 ---> Probability: 0.0\n",
      "Rank 4: 2 ---> Probability: 0.0\n",
      "Rank 5: 3 ---> Probability: 0.0\n",
      "\n",
      "Image 3\n",
      "Correct label: 25\n",
      "Rank 1: 25 ---> Probability: 1.0\n",
      "Rank 2: 0 ---> Probability: 0.0\n",
      "Rank 3: 1 ---> Probability: 0.0\n",
      "Rank 4: 2 ---> Probability: 0.0\n",
      "Rank 5: 3 ---> Probability: 0.0\n",
      "\n",
      "Image 4\n",
      "Correct label: 2\n",
      "Rank 1: 26 ---> Probability: 1.0\n",
      "Rank 2: 0 ---> Probability: 0.0\n",
      "Rank 3: 1 ---> Probability: 0.0\n",
      "Rank 4: 2 ---> Probability: 0.0\n",
      "Rank 5: 3 ---> Probability: 0.0\n",
      "\n",
      "Image 5\n",
      "Correct label: 17\n",
      "Rank 1: 17 ---> Probability: 1.0\n",
      "Rank 2: 0 ---> Probability: 0.0\n",
      "Rank 3: 1 ---> Probability: 0.0\n",
      "Rank 4: 2 ---> Probability: 0.0\n",
      "Rank 5: 3 ---> Probability: 0.0\n",
      "\n",
      "Image 6\n",
      "Correct label: 22\n",
      "Rank 1: 22 ---> Probability: 1.0\n",
      "Rank 2: 0 ---> Probability: 0.0\n",
      "Rank 3: 1 ---> Probability: 0.0\n",
      "Rank 4: 2 ---> Probability: 0.0\n",
      "Rank 5: 3 ---> Probability: 0.0\n",
      "\n"
     ]
    }
   ],
   "source": [
    "plot_custom_samples()\n",
    "\n",
    "for idx in range(6):\n",
    "    print(\"Image %d\" % (idx+1))\n",
    "    print(\"Correct label: %s\" % new_labels[idx])\n",
    "    \n",
    "    for j in range(5):\n",
    "        label_prob = probs[0][idx][j]\n",
    "        ranked_label = probs[1][idx][j]\n",
    "        \n",
    "        print(\"Rank %s: %s ---> Probability: %s\" % ((j+1), ranked_label, label_prob))\n",
    "    print()"
   ]
  },
  {
   "cell_type": "markdown",
   "metadata": {},
   "source": [
    "### Project Writeup\n",
    "\n",
    "Once you have completed the code implementation, document your results in a project writeup using this [template](https://github.com/udacity/CarND-Traffic-Sign-Classifier-Project/blob/master/writeup_template.md) as a guide. The writeup can be in a markdown or pdf file. "
   ]
  },
  {
   "cell_type": "markdown",
   "metadata": {},
   "source": [
    "> **Note**: Once you have completed all of the code implementations and successfully answered each question above, you may finalize your work by exporting the iPython Notebook as an HTML document. You can do this by using the menu above and navigating to  \\n\",\n",
    "    \"**File -> Download as -> HTML (.html)**. Include the finished document along with this notebook as your submission."
   ]
  },
  {
   "cell_type": "markdown",
   "metadata": {},
   "source": [
    "---\n",
    "\n",
    "## Step 4 (Optional): Visualize the Neural Network's State with Test Images\n",
    "\n",
    " This Section is not required to complete but acts as an additional excersise for understaning the output of a neural network's weights. While neural networks can be a great learning device they are often referred to as a black box. We can understand what the weights of a neural network look like better by plotting their feature maps. After successfully training your neural network you can see what it's feature maps look like by plotting the output of the network's weight layers in response to a test stimuli image. From these plotted feature maps, it's possible to see what characteristics of an image the network finds interesting. For a sign, maybe the inner network feature maps react with high activation to the sign's boundary outline or to the contrast in the sign's painted symbol.\n",
    "\n",
    " Provided for you below is the function code that allows you to get the visualization output of any tensorflow weight layer you want. The inputs to the function should be a stimuli image, one used during training or a new one you provided, and then the tensorflow variable name that represents the layer's state during the training process, for instance if you wanted to see what the [LeNet lab's](https://classroom.udacity.com/nanodegrees/nd013/parts/fbf77062-5703-404e-b60c-95b78b2f3f9e/modules/6df7ae49-c61c-4bb2-a23e-6527e69209ec/lessons/601ae704-1035-4287-8b11-e2c2716217ad/concepts/d4aca031-508f-4e0b-b493-e7b706120f81) feature maps looked like for it's second convolutional layer you could enter conv2 as the tf_activation variable.\n",
    "\n",
    "For an example of what feature map outputs look like, check out NVIDIA's results in their paper [End-to-End Deep Learning for Self-Driving Cars](https://devblogs.nvidia.com/parallelforall/deep-learning-self-driving-cars/) in the section Visualization of internal CNN State. NVIDIA was able to show that their network's inner weights had high activations to road boundary lines by comparing feature maps from an image with a clear path to one without. Try experimenting with a similar test to show that your trained network's weights are looking for interesting features, whether it's looking at differences in feature maps from images with or without a sign, or even what feature maps look like in a trained network vs a completely untrained one on the same sign image.\n",
    "\n",
    "<figure>\n",
    " <img src=\"visualize_cnn.png\" width=\"380\" alt=\"Combined Image\" />\n",
    " <figcaption>\n",
    " <p></p> \n",
    " <p style=\"text-align: center;\"> Your output should look something like this (above)</p> \n",
    " </figcaption>\n",
    "</figure>\n",
    " <p></p> \n"
   ]
  },
  {
   "cell_type": "code",
   "execution_count": null,
   "metadata": {
    "collapsed": true
   },
   "outputs": [],
   "source": [
    "### Visualize your network's feature maps here.\n",
    "### Feel free to use as many code cells as needed.\n",
    "\n",
    "# image_input: the test image being fed into the network to produce the feature maps\n",
    "# tf_activation: should be a tf variable name used during your training procedure that represents the calculated state of a specific weight layer\n",
    "# activation_min/max: can be used to view the activation contrast in more detail, by default matplot sets min and max to the actual min and max values of the output\n",
    "# plt_num: used to plot out multiple different weight feature map sets on the same block, just extend the plt number for each new feature map entry\n",
    "\n",
    "def outputFeatureMap(image_input, tf_activation, activation_min=-1, activation_max=-1 ,plt_num=1):\n",
    "    # Here make sure to preprocess your image_input in a way your network expects\n",
    "    # with size, normalization, ect if needed\n",
    "    # image_input =\n",
    "    # Note: x should be the same name as your network's tensorflow data placeholder variable\n",
    "    # If you get an error tf_activation is not defined it may be having trouble accessing the variable from inside a function\n",
    "    activation = tf_activation.eval(session=sess,feed_dict={x : image_input})\n",
    "    featuremaps = activation.shape[3]\n",
    "    plt.figure(plt_num, figsize=(15,15))\n",
    "    for featuremap in range(featuremaps):\n",
    "        plt.subplot(6,8, featuremap+1) # sets the number of feature maps to show on each row and column\n",
    "        plt.title('FeatureMap ' + str(featuremap)) # displays the feature map number\n",
    "        if activation_min != -1 & activation_max != -1:\n",
    "            plt.imshow(activation[0,:,:, featuremap], interpolation=\"nearest\", vmin =activation_min, vmax=activation_max, cmap=\"gray\")\n",
    "        elif activation_max != -1:\n",
    "            plt.imshow(activation[0,:,:, featuremap], interpolation=\"nearest\", vmax=activation_max, cmap=\"gray\")\n",
    "        elif activation_min !=-1:\n",
    "            plt.imshow(activation[0,:,:, featuremap], interpolation=\"nearest\", vmin=activation_min, cmap=\"gray\")\n",
    "        else:\n",
    "            plt.imshow(activation[0,:,:, featuremap], interpolation=\"nearest\", cmap=\"gray\")"
   ]
  }
 ],
 "metadata": {
  "anaconda-cloud": {},
  "kernelspec": {
   "display_name": "Python 3",
   "language": "python",
   "name": "python3"
  },
  "language_info": {
   "codemirror_mode": {
    "name": "ipython",
    "version": 3
   },
   "file_extension": ".py",
   "mimetype": "text/x-python",
   "name": "python",
   "nbconvert_exporter": "python",
   "pygments_lexer": "ipython3",
   "version": "3.6.1"
  }
 },
 "nbformat": 4,
 "nbformat_minor": 1
}
